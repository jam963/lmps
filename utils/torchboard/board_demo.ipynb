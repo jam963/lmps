{
 "cells": [
  {
   "cell_type": "markdown",
   "metadata": {},
   "source": [
    "Here's a quick demonstration on how to log scalar values to Tensorboard using the Board class. Assuming you already have tensorboard intalled:"
   ]
  },
  {
   "cell_type": "code",
   "execution_count": 1,
   "metadata": {},
   "outputs": [],
   "source": [
    "from board import Board"
   ]
  },
  {
   "cell_type": "code",
   "execution_count": 2,
   "metadata": {},
   "outputs": [
    {
     "name": "stderr",
     "output_type": "stream",
     "text": [
      "c:\\Users\\jm736\\anaconda3\\envs\\tf-gpu\\lib\\site-packages\\scipy\\__init__.py:146: UserWarning: A NumPy version >=1.16.5 and <1.23.0 is required for this version of SciPy (detected version 1.23.1\n",
      "  warnings.warn(f\"A NumPy version >={np_minversion} and <{np_maxversion}\"\n"
     ]
    }
   ],
   "source": [
    "board = Board() # Default initialization is log_dir=\"runs\", writer_method=\"add_scalar\". \n",
    "                # In principle you should be able to pass any SummaryWriter method at initialization   \n",
    "                # or when calling the object directly. I haven't tested this for methods besides\n",
    "                # add_scalar, though.\n",
    "\n",
    "@board(\"Function 1\") # Log function output (scalar) under label \"Function 1\"\n",
    "def func1(i):\n",
    "    return 2*i\n",
    "\n",
    "@board(\"Function 2\") # Log function output (scalar) under label \"Function 2\"\n",
    "def func2(i):\n",
    "    return i*i\n"
   ]
  },
  {
   "cell_type": "code",
   "execution_count": 3,
   "metadata": {},
   "outputs": [],
   "source": [
    "board.train() # Set board to Training\n",
    "for i in range(20):\n",
    "    func1(i)\n",
    "    func2(i)\n",
    "    board.step() # increment step (board knows it is training)\n",
    "\n",
    "board.val() # set board to Validation\n",
    "for i in range(10):\n",
    "    func1(i)\n",
    "    func2(i)\n",
    "    board.step() # increment step (board knows it is validating)\n",
    "\n",
    "board.test() # set board to Testing\n",
    "for i in range(5): \n",
    "    func1(i)\n",
    "    func2(i)\n",
    "    board.step() # increment step (board knows it is testing)"
   ]
  },
  {
   "cell_type": "markdown",
   "metadata": {},
   "source": [
    "Use `$ tensorboard --logdir runs` to view output. If using vscode, you can also use the Tensorboard plugin without launching a separate browser."
   ]
  }
 ],
 "metadata": {
  "kernelspec": {
   "display_name": "Python 3.9.6 ('tf-gpu')",
   "language": "python",
   "name": "python3"
  },
  "language_info": {
   "codemirror_mode": {
    "name": "ipython",
    "version": 3
   },
   "file_extension": ".py",
   "mimetype": "text/x-python",
   "name": "python",
   "nbconvert_exporter": "python",
   "pygments_lexer": "ipython3",
   "version": "3.9.6"
  },
  "orig_nbformat": 4,
  "vscode": {
   "interpreter": {
    "hash": "cded880ad618775c658dca75358d7abe3c6a981f02ebc3d9cc9544506d691114"
   }
  }
 },
 "nbformat": 4,
 "nbformat_minor": 2
}
